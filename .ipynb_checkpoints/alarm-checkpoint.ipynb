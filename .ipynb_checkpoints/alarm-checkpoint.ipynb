{
 "cells": [
  {
   "cell_type": "code",
   "execution_count": null,
   "id": "b5c9b468-c4e2-4bb3-8895-5620522b5977",
   "metadata": {},
   "outputs": [],
   "source": [
    "import tkinter as tk\n",
    "import tkinter.font as font\n",
    "from datetime import datetime\n",
    "import time\n",
    "import threading\n",
    "from playsound import playsound\n",
    "\n",
    "\n",
    "def set_alarm():\n",
    "    \n",
    "\n",
    "\n",
    "\n",
    "root=tk.Tk()\n",
    "root.title(\"Alarm Clock\")\n",
    "root.geometry(\"640x380\")\n",
    "\n",
    "label=tk.label(root, text=\"Enter time\",font=\"Arial, 14\", fg=\"blue\")\n",
    "label.pack(pady=10)\n",
    "\n",
    "entry_time=tk.Entry(root, text=\"00:00\")\n",
    "entry.pack(pady=10)\n",
    "\n",
    "frame=tk.Frame(root)\n",
    "frame.pack(pady=5)\n",
    "\n",
    "play_button=tk.button(root, \n",
    "                      text=\"Play\", \n",
    "                      font=\"Arial, 16\", \n",
    "                      fg=\"black\", \n",
    "                      bg=\"lightblue\", \n",
    "                      activebackground=\"blue\", \n",
    "                      activeforeground=\"white\", \n",
    "                      command=)\n",
    "paly_button.pack(pady=10)\n",
    "\n",
    "off_button=tk.button(root, \n",
    "                     text=\"Off\" \n",
    "                     font=\"Arial, 16\", \n",
    "                     bg=\"lightgray\", \n",
    "                     fg=\"white\", \n",
    "                     activebackgroung=\"gray\", \n",
    "                     activegoreground=\"red\", \n",
    "                     command=)\n",
    "off_button.pack(pady=10)\n",
    "\n",
    "\n",
    "\n",
    "\n",
    "\n",
    "\n",
    "\n",
    "root.mainloop()"
   ]
  }
 ],
 "metadata": {
  "kernelspec": {
   "display_name": "Python 3 (ipykernel)",
   "language": "python",
   "name": "python3"
  },
  "language_info": {
   "codemirror_mode": {
    "name": "ipython",
    "version": 3
   },
   "file_extension": ".py",
   "mimetype": "text/x-python",
   "name": "python",
   "nbconvert_exporter": "python",
   "pygments_lexer": "ipython3",
   "version": "3.10.18"
  }
 },
 "nbformat": 4,
 "nbformat_minor": 5
}
